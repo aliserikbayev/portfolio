{
 "cells": [
  {
   "cell_type": "code",
   "execution_count": 3,
   "id": "64dc2a23-6b34-4fe3-a40c-c2254fd9a559",
   "metadata": {},
   "outputs": [],
   "source": [
    "import seaborn as sns\n",
    "import numpy as np\n",
    "import pandas as pd\n",
    "import matplotlib.pyplot as plt\n",
    "import os\n"
   ]
  },
  {
   "cell_type": "code",
   "execution_count": 8,
   "id": "221f1b2f-6b83-45b9-8166-9c736640a91f",
   "metadata": {},
   "outputs": [],
   "source": [
    "import warnings\n",
    "warnings.filterwarnings(\"ignore\")\n",
    "warnings.simplefilter(action = \"ignore\", category =FutureWarning)\n",
    "\n",
    "pd.set_option(\"display.max_columns\", None)\n",
    "pd.options.display.float_format = \"{:.4f}\".format"
   ]
  },
  {
   "cell_type": "code",
   "execution_count": 10,
   "id": "198650ea-029f-4998-8a1d-d0db1524c842",
   "metadata": {},
   "outputs": [],
   "source": [
    "df = pd.read_csv(\"cookie_cats.csv\")"
   ]
  },
  {
   "cell_type": "code",
   "execution_count": 11,
   "id": "30970906-43a0-4b42-b9d6-28123655929e",
   "metadata": {},
   "outputs": [
    {
     "data": {
      "text/html": [
       "<div>\n",
       "<style scoped>\n",
       "    .dataframe tbody tr th:only-of-type {\n",
       "        vertical-align: middle;\n",
       "    }\n",
       "\n",
       "    .dataframe tbody tr th {\n",
       "        vertical-align: top;\n",
       "    }\n",
       "\n",
       "    .dataframe thead th {\n",
       "        text-align: right;\n",
       "    }\n",
       "</style>\n",
       "<table border=\"1\" class=\"dataframe\">\n",
       "  <thead>\n",
       "    <tr style=\"text-align: right;\">\n",
       "      <th></th>\n",
       "      <th>userid</th>\n",
       "      <th>version</th>\n",
       "      <th>sum_gamerounds</th>\n",
       "      <th>retention_1</th>\n",
       "      <th>retention_7</th>\n",
       "    </tr>\n",
       "  </thead>\n",
       "  <tbody>\n",
       "    <tr>\n",
       "      <th>0</th>\n",
       "      <td>116</td>\n",
       "      <td>gate_30</td>\n",
       "      <td>3</td>\n",
       "      <td>False</td>\n",
       "      <td>False</td>\n",
       "    </tr>\n",
       "    <tr>\n",
       "      <th>1</th>\n",
       "      <td>337</td>\n",
       "      <td>gate_30</td>\n",
       "      <td>38</td>\n",
       "      <td>True</td>\n",
       "      <td>False</td>\n",
       "    </tr>\n",
       "    <tr>\n",
       "      <th>2</th>\n",
       "      <td>377</td>\n",
       "      <td>gate_40</td>\n",
       "      <td>165</td>\n",
       "      <td>True</td>\n",
       "      <td>False</td>\n",
       "    </tr>\n",
       "    <tr>\n",
       "      <th>3</th>\n",
       "      <td>483</td>\n",
       "      <td>gate_40</td>\n",
       "      <td>1</td>\n",
       "      <td>False</td>\n",
       "      <td>False</td>\n",
       "    </tr>\n",
       "    <tr>\n",
       "      <th>4</th>\n",
       "      <td>488</td>\n",
       "      <td>gate_40</td>\n",
       "      <td>179</td>\n",
       "      <td>True</td>\n",
       "      <td>True</td>\n",
       "    </tr>\n",
       "  </tbody>\n",
       "</table>\n",
       "</div>"
      ],
      "text/plain": [
       "   userid  version  sum_gamerounds  retention_1  retention_7\n",
       "0     116  gate_30               3        False        False\n",
       "1     337  gate_30              38         True        False\n",
       "2     377  gate_40             165         True        False\n",
       "3     483  gate_40               1        False        False\n",
       "4     488  gate_40             179         True         True"
      ]
     },
     "execution_count": 11,
     "metadata": {},
     "output_type": "execute_result"
    }
   ],
   "source": [
    "df.head()"
   ]
  },
  {
   "cell_type": "code",
   "execution_count": 12,
   "id": "822c57f1-01d1-4ad9-9a94-bee239141e98",
   "metadata": {},
   "outputs": [
    {
     "data": {
      "text/html": [
       "<div>\n",
       "<style scoped>\n",
       "    .dataframe tbody tr th:only-of-type {\n",
       "        vertical-align: middle;\n",
       "    }\n",
       "\n",
       "    .dataframe tbody tr th {\n",
       "        vertical-align: top;\n",
       "    }\n",
       "\n",
       "    .dataframe thead th {\n",
       "        text-align: right;\n",
       "    }\n",
       "</style>\n",
       "<table border=\"1\" class=\"dataframe\">\n",
       "  <thead>\n",
       "    <tr style=\"text-align: right;\">\n",
       "      <th></th>\n",
       "      <th>userid</th>\n",
       "      <th>sum_gamerounds</th>\n",
       "    </tr>\n",
       "  </thead>\n",
       "  <tbody>\n",
       "    <tr>\n",
       "      <th>count</th>\n",
       "      <td>9.018900e+04</td>\n",
       "      <td>90189.000000</td>\n",
       "    </tr>\n",
       "    <tr>\n",
       "      <th>mean</th>\n",
       "      <td>4.998412e+06</td>\n",
       "      <td>51.872457</td>\n",
       "    </tr>\n",
       "    <tr>\n",
       "      <th>std</th>\n",
       "      <td>2.883286e+06</td>\n",
       "      <td>195.050858</td>\n",
       "    </tr>\n",
       "    <tr>\n",
       "      <th>min</th>\n",
       "      <td>1.160000e+02</td>\n",
       "      <td>0.000000</td>\n",
       "    </tr>\n",
       "    <tr>\n",
       "      <th>25%</th>\n",
       "      <td>2.512230e+06</td>\n",
       "      <td>5.000000</td>\n",
       "    </tr>\n",
       "    <tr>\n",
       "      <th>50%</th>\n",
       "      <td>4.995815e+06</td>\n",
       "      <td>16.000000</td>\n",
       "    </tr>\n",
       "    <tr>\n",
       "      <th>75%</th>\n",
       "      <td>7.496452e+06</td>\n",
       "      <td>51.000000</td>\n",
       "    </tr>\n",
       "    <tr>\n",
       "      <th>max</th>\n",
       "      <td>9.999861e+06</td>\n",
       "      <td>49854.000000</td>\n",
       "    </tr>\n",
       "  </tbody>\n",
       "</table>\n",
       "</div>"
      ],
      "text/plain": [
       "             userid  sum_gamerounds\n",
       "count  9.018900e+04    90189.000000\n",
       "mean   4.998412e+06       51.872457\n",
       "std    2.883286e+06      195.050858\n",
       "min    1.160000e+02        0.000000\n",
       "25%    2.512230e+06        5.000000\n",
       "50%    4.995815e+06       16.000000\n",
       "75%    7.496452e+06       51.000000\n",
       "max    9.999861e+06    49854.000000"
      ]
     },
     "execution_count": 12,
     "metadata": {},
     "output_type": "execute_result"
    }
   ],
   "source": [
    "df.describe()"
   ]
  },
  {
   "cell_type": "code",
   "execution_count": 13,
   "id": "18166b5e-3b36-4ee0-bfc8-588fbf4c08e0",
   "metadata": {},
   "outputs": [
    {
     "name": "stdout",
     "output_type": "stream",
     "text": [
      "<class 'pandas.core.frame.DataFrame'>\n",
      "RangeIndex: 90189 entries, 0 to 90188\n",
      "Data columns (total 5 columns):\n",
      " #   Column          Non-Null Count  Dtype \n",
      "---  ------          --------------  ----- \n",
      " 0   userid          90189 non-null  int64 \n",
      " 1   version         90189 non-null  object\n",
      " 2   sum_gamerounds  90189 non-null  int64 \n",
      " 3   retention_1     90189 non-null  bool  \n",
      " 4   retention_7     90189 non-null  bool  \n",
      "dtypes: bool(2), int64(2), object(1)\n",
      "memory usage: 2.2+ MB\n"
     ]
    }
   ],
   "source": [
    "df.info()"
   ]
  },
  {
   "cell_type": "code",
   "execution_count": 16,
   "id": "352911e9-743e-499a-ac90-1e665f9910ef",
   "metadata": {},
   "outputs": [
    {
     "data": {
      "text/html": [
       "<div>\n",
       "<style scoped>\n",
       "    .dataframe tbody tr th:only-of-type {\n",
       "        vertical-align: middle;\n",
       "    }\n",
       "\n",
       "    .dataframe tbody tr th {\n",
       "        vertical-align: top;\n",
       "    }\n",
       "\n",
       "    .dataframe thead th {\n",
       "        text-align: right;\n",
       "    }\n",
       "</style>\n",
       "<table border=\"1\" class=\"dataframe\">\n",
       "  <thead>\n",
       "    <tr style=\"text-align: right;\">\n",
       "      <th></th>\n",
       "      <th>userid</th>\n",
       "      <th>sum_gamerounds</th>\n",
       "      <th>retention_1</th>\n",
       "      <th>retention_7</th>\n",
       "    </tr>\n",
       "    <tr>\n",
       "      <th>version</th>\n",
       "      <th></th>\n",
       "      <th></th>\n",
       "      <th></th>\n",
       "      <th></th>\n",
       "    </tr>\n",
       "  </thead>\n",
       "  <tbody>\n",
       "    <tr>\n",
       "      <th>gate_30</th>\n",
       "      <td>44700</td>\n",
       "      <td>44700</td>\n",
       "      <td>44700</td>\n",
       "      <td>44700</td>\n",
       "    </tr>\n",
       "    <tr>\n",
       "      <th>gate_40</th>\n",
       "      <td>45489</td>\n",
       "      <td>45489</td>\n",
       "      <td>45489</td>\n",
       "      <td>45489</td>\n",
       "    </tr>\n",
       "  </tbody>\n",
       "</table>\n",
       "</div>"
      ],
      "text/plain": [
       "         userid  sum_gamerounds  retention_1  retention_7\n",
       "version                                                  \n",
       "gate_30   44700           44700        44700        44700\n",
       "gate_40   45489           45489        45489        45489"
      ]
     },
     "execution_count": 16,
     "metadata": {},
     "output_type": "execute_result"
    }
   ],
   "source": [
    "df.groupby(\"version\").count()"
   ]
  },
  {
   "cell_type": "code",
   "execution_count": 22,
   "id": "918f830a-26c8-4c7e-bec1-c79869663fe7",
   "metadata": {},
   "outputs": [
    {
     "name": "stdout",
     "output_type": "stream",
     "text": [
      "134.0\n",
      "92.0\n",
      "67.0\n"
     ]
    }
   ],
   "source": [
    "print(np.percentile(df[\"sum_gamerounds\"], 90))\n",
    "print(np.percentile(df[\"sum_gamerounds\"], 85))\n",
    "print(np.percentile(df[\"sum_gamerounds\"], 80))"
   ]
  },
  {
   "cell_type": "code",
   "execution_count": 27,
   "id": "56784374-0b1d-4492-85f2-14cc5a7a4f53",
   "metadata": {},
   "outputs": [],
   "source": [
    "plot_df =df.groupby(\"sum_gamerounds\")[\"userid\"].count()"
   ]
  },
  {
   "cell_type": "code",
   "execution_count": 28,
   "id": "5a7765b4-80c9-4ca2-b912-ae70fe669920",
   "metadata": {},
   "outputs": [
    {
     "data": {
      "text/plain": [
       "sum_gamerounds\n",
       "0     3994\n",
       "1     5538\n",
       "2     4606\n",
       "3     3958\n",
       "4     3629\n",
       "      ... \n",
       "95     161\n",
       "96     135\n",
       "97     137\n",
       "98     139\n",
       "99     133\n",
       "Name: userid, Length: 100, dtype: int64"
      ]
     },
     "execution_count": 28,
     "metadata": {},
     "output_type": "execute_result"
    }
   ],
   "source": [
    "plot_df.head(100)"
   ]
  },
  {
   "cell_type": "code",
   "execution_count": 30,
   "id": "6c246640-ee7e-4cea-b12b-d5d0a80704f8",
   "metadata": {},
   "outputs": [
    {
     "data": {
      "text/plain": [
       "Text(0.5, 0, 'раунды')"
      ]
     },
     "execution_count": 30,
     "metadata": {},
     "output_type": "execute_result"
    },
    {
     "data": {
      "image/png": "[encoded data removed]",
      "text/plain": [
       "<Figure size 1000x600 with 1 Axes>"
      ]
     },
     "metadata": {},
     "output_type": "display_data"
    }
   ],
   "source": [
    "ax = plot_df[:100].plot(figsize = (10,6))\n",
    "ax.set_title(\"количество игроков,сыгравших 0-100 раундов в течении 1ой недели\")\n",
    "ax.set_ylabel(\"кол-во игроков\")\n",
    "ax.set_xlabel(\"раунды\")"
   ]
  },
  {
   "cell_type": "code",
   "execution_count": 33,
   "id": "02a650fa-dc42-46e6-8238-d97266e362a8",
   "metadata": {},
   "outputs": [
    {
     "data": {
      "text/plain": [
       "44.52095044850259"
      ]
     },
     "execution_count": 33,
     "metadata": {},
     "output_type": "execute_result"
    }
   ],
   "source": [
    "df[\"retention_1\"].sum() / df['retention_1'].count() * 100\n"
   ]
  },
  {
   "cell_type": "code",
   "execution_count": 35,
   "id": "2f172c31-e63c-482a-b3b1-a40cbfcc63d8",
   "metadata": {},
   "outputs": [
    {
     "data": {
      "text/plain": [
       "version\n",
       "gate_30    44.818792\n",
       "gate_40    44.228275\n",
       "Name: retention_1, dtype: float64"
      ]
     },
     "execution_count": 35,
     "metadata": {},
     "output_type": "execute_result"
    }
   ],
   "source": [
    "df.groupby(\"version\")[\"retention_1\"].mean() * 100"
   ]
  },
  {
   "cell_type": "code",
   "execution_count": 37,
   "id": "d460c60f-f22f-4251-83f7-acc2b52cd815",
   "metadata": {},
   "outputs": [
    {
     "data": {
      "text/plain": [
       "<AxesSubplot:ylabel='Density'>"
      ]
     },
     "execution_count": 37,
     "metadata": {},
     "output_type": "execute_result"
    },
    {
     "data": {
      "image/png": "[encoded data removed]",
      "text/plain": [
       "<Figure size 640x480 with 1 Axes>"
      ]
     },
     "metadata": {},
     "output_type": "display_data"
    }
   ],
   "source": [
    "boot_1d = []\n",
    "for i in range(1000):\n",
    "    boot_mean = df.sample(frac = 1, replace = True).groupby(\"version\")[\"retention_1\"].mean()\n",
    "    boot_1d.append(boot_mean)\n",
    "\n",
    "boot_1d = pd.DataFrame(boot_1d)\n",
    "\n",
    "boot_1d.plot(kind = \"density\")"
   ]
  },
  {
   "cell_type": "code",
   "execution_count": 41,
   "id": "cbdfc653-22c7-4b00-a86b-5bbe1717cee1",
   "metadata": {},
   "outputs": [],
   "source": [
    "boot_1d[\"diff\"] = (boot_1d[\"gate_30\"] - boot_1d[\"gate_40\"]) / boot_1d.gate_40 * 100"
   ]
  },
  {
   "cell_type": "code",
   "execution_count": 46,
   "id": "c053884f-0fdd-46fe-868a-fe49667e4641",
   "metadata": {},
   "outputs": [
    {
     "data": {
      "text/html": [
       "<div>\n",
       "<style scoped>\n",
       "    .dataframe tbody tr th:only-of-type {\n",
       "        vertical-align: middle;\n",
       "    }\n",
       "\n",
       "    .dataframe tbody tr th {\n",
       "        vertical-align: top;\n",
       "    }\n",
       "\n",
       "    .dataframe thead th {\n",
       "        text-align: right;\n",
       "    }\n",
       "</style>\n",
       "<table border=\"1\" class=\"dataframe\">\n",
       "  <thead>\n",
       "    <tr style=\"text-align: right;\">\n",
       "      <th>version</th>\n",
       "      <th>gate_30</th>\n",
       "      <th>gate_40</th>\n",
       "      <th>diff</th>\n",
       "    </tr>\n",
       "  </thead>\n",
       "  <tbody>\n",
       "    <tr>\n",
       "      <th>retention_1</th>\n",
       "      <td>0.449254</td>\n",
       "      <td>0.440916</td>\n",
       "      <td>1.891092</td>\n",
       "    </tr>\n",
       "    <tr>\n",
       "      <th>retention_1</th>\n",
       "      <td>0.450613</td>\n",
       "      <td>0.440145</td>\n",
       "      <td>2.378230</td>\n",
       "    </tr>\n",
       "    <tr>\n",
       "      <th>retention_1</th>\n",
       "      <td>0.445506</td>\n",
       "      <td>0.444963</td>\n",
       "      <td>0.121977</td>\n",
       "    </tr>\n",
       "    <tr>\n",
       "      <th>retention_1</th>\n",
       "      <td>0.447728</td>\n",
       "      <td>0.445201</td>\n",
       "      <td>0.567737</td>\n",
       "    </tr>\n",
       "    <tr>\n",
       "      <th>retention_1</th>\n",
       "      <td>0.447568</td>\n",
       "      <td>0.441544</td>\n",
       "      <td>1.364215</td>\n",
       "    </tr>\n",
       "    <tr>\n",
       "      <th>...</th>\n",
       "      <td>...</td>\n",
       "      <td>...</td>\n",
       "      <td>...</td>\n",
       "    </tr>\n",
       "    <tr>\n",
       "      <th>retention_1</th>\n",
       "      <td>0.445761</td>\n",
       "      <td>0.439478</td>\n",
       "      <td>1.429794</td>\n",
       "    </tr>\n",
       "    <tr>\n",
       "      <th>retention_1</th>\n",
       "      <td>0.447774</td>\n",
       "      <td>0.442531</td>\n",
       "      <td>1.184769</td>\n",
       "    </tr>\n",
       "    <tr>\n",
       "      <th>retention_1</th>\n",
       "      <td>0.450101</td>\n",
       "      <td>0.443437</td>\n",
       "      <td>1.502817</td>\n",
       "    </tr>\n",
       "    <tr>\n",
       "      <th>retention_1</th>\n",
       "      <td>0.449682</td>\n",
       "      <td>0.439944</td>\n",
       "      <td>2.213472</td>\n",
       "    </tr>\n",
       "    <tr>\n",
       "      <th>retention_1</th>\n",
       "      <td>0.446063</td>\n",
       "      <td>0.441337</td>\n",
       "      <td>1.070649</td>\n",
       "    </tr>\n",
       "  </tbody>\n",
       "</table>\n",
       "<p>1000 rows × 3 columns</p>\n",
       "</div>"
      ],
      "text/plain": [
       "version       gate_30   gate_40      diff\n",
       "retention_1  0.449254  0.440916  1.891092\n",
       "retention_1  0.450613  0.440145  2.378230\n",
       "retention_1  0.445506  0.444963  0.121977\n",
       "retention_1  0.447728  0.445201  0.567737\n",
       "retention_1  0.447568  0.441544  1.364215\n",
       "...               ...       ...       ...\n",
       "retention_1  0.445761  0.439478  1.429794\n",
       "retention_1  0.447774  0.442531  1.184769\n",
       "retention_1  0.450101  0.443437  1.502817\n",
       "retention_1  0.449682  0.439944  2.213472\n",
       "retention_1  0.446063  0.441337  1.070649\n",
       "\n",
       "[1000 rows x 3 columns]"
      ]
     },
     "execution_count": 46,
     "metadata": {},
     "output_type": "execute_result"
    }
   ],
   "source": [
    "boot_1d"
   ]
  },
  {
   "cell_type": "code",
   "execution_count": 49,
   "id": "b46efa68-d217-416e-8238-1ab270675b93",
   "metadata": {},
   "outputs": [
    {
     "name": "stdout",
     "output_type": "stream",
     "text": [
      "Вероятность, что 1-day retention больше у gate-30:  0.961\n"
     ]
    },
    {
     "data": {
      "image/png": "[encoded data removed]",
      "text/plain": [
       "<Figure size 640x480 with 1 Axes>"
      ]
     },
     "metadata": {},
     "output_type": "display_data"
    }
   ],
   "source": [
    "ax = boot_1d['diff'].plot(kind = 'density')\n",
    "ax.set_title(\"% diff между АБ группами\")\n",
    "print(\"Вероятность, что 1-day retention больше у gate-30: \", (boot_1d['diff'] > 0).mean())"
   ]
  },
  {
   "cell_type": "code",
   "execution_count": 52,
   "id": "f88dfaa8-6c99-41f9-9fc3-f6cba011f784",
   "metadata": {},
   "outputs": [
    {
     "data": {
      "text/plain": [
       "version\n",
       "gate_30    0.190201\n",
       "gate_40    0.182000\n",
       "Name: retention_7, dtype: float64"
      ]
     },
     "execution_count": 52,
     "metadata": {},
     "output_type": "execute_result"
    }
   ],
   "source": [
    "df.groupby(\"version\")['retention_7'].mean() "
   ]
  },
  {
   "cell_type": "code",
   "execution_count": 56,
   "id": "56410fbd-7656-4a46-895f-0469bf16e99e",
   "metadata": {},
   "outputs": [],
   "source": [
    "boot_7d = []\n",
    "for i in range(500):\n",
    "    boot_mean = df.sample(frac = 1, replace = True).groupby(\"version\")[\"retention_7\"].mean()\n",
    "    boot_7d.append(boot_mean)\n",
    "\n",
    "boot_7d = pd.DataFrame(boot_7d)\n",
    "\n",
    "boot_7d[\"diff\"] = (boot_7d.gate_30 - boot_7d.gate_40)"
   ]
  },
  {
   "cell_type": "code",
   "execution_count": 60,
   "id": "e30568a5-b333-43c8-9f00-45e05f98afbe",
   "metadata": {},
   "outputs": [
    {
     "data": {
      "text/html": [
       "<div>\n",
       "<style scoped>\n",
       "    .dataframe tbody tr th:only-of-type {\n",
       "        vertical-align: middle;\n",
       "    }\n",
       "\n",
       "    .dataframe tbody tr th {\n",
       "        vertical-align: top;\n",
       "    }\n",
       "\n",
       "    .dataframe thead th {\n",
       "        text-align: right;\n",
       "    }\n",
       "</style>\n",
       "<table border=\"1\" class=\"dataframe\">\n",
       "  <thead>\n",
       "    <tr style=\"text-align: right;\">\n",
       "      <th>version</th>\n",
       "      <th>gate_30</th>\n",
       "      <th>gate_40</th>\n",
       "      <th>diff</th>\n",
       "    </tr>\n",
       "  </thead>\n",
       "  <tbody>\n",
       "    <tr>\n",
       "      <th>retention_7</th>\n",
       "      <td>0.191098</td>\n",
       "      <td>0.184418</td>\n",
       "      <td>3.622701</td>\n",
       "    </tr>\n",
       "    <tr>\n",
       "      <th>retention_7</th>\n",
       "      <td>0.191202</td>\n",
       "      <td>0.183293</td>\n",
       "      <td>4.314836</td>\n",
       "    </tr>\n",
       "    <tr>\n",
       "      <th>retention_7</th>\n",
       "      <td>0.190218</td>\n",
       "      <td>0.182929</td>\n",
       "      <td>3.984835</td>\n",
       "    </tr>\n",
       "    <tr>\n",
       "      <th>retention_7</th>\n",
       "      <td>0.190091</td>\n",
       "      <td>0.182824</td>\n",
       "      <td>3.974973</td>\n",
       "    </tr>\n",
       "    <tr>\n",
       "      <th>retention_7</th>\n",
       "      <td>0.189154</td>\n",
       "      <td>0.180471</td>\n",
       "      <td>4.811104</td>\n",
       "    </tr>\n",
       "    <tr>\n",
       "      <th>...</th>\n",
       "      <td>...</td>\n",
       "      <td>...</td>\n",
       "      <td>...</td>\n",
       "    </tr>\n",
       "    <tr>\n",
       "      <th>retention_7</th>\n",
       "      <td>0.191131</td>\n",
       "      <td>0.181397</td>\n",
       "      <td>5.366101</td>\n",
       "    </tr>\n",
       "    <tr>\n",
       "      <th>retention_7</th>\n",
       "      <td>0.188901</td>\n",
       "      <td>0.181936</td>\n",
       "      <td>3.828108</td>\n",
       "    </tr>\n",
       "    <tr>\n",
       "      <th>retention_7</th>\n",
       "      <td>0.191024</td>\n",
       "      <td>0.180751</td>\n",
       "      <td>5.683537</td>\n",
       "    </tr>\n",
       "    <tr>\n",
       "      <th>retention_7</th>\n",
       "      <td>0.192830</td>\n",
       "      <td>0.181141</td>\n",
       "      <td>6.453062</td>\n",
       "    </tr>\n",
       "    <tr>\n",
       "      <th>retention_7</th>\n",
       "      <td>0.188947</td>\n",
       "      <td>0.177835</td>\n",
       "      <td>6.248888</td>\n",
       "    </tr>\n",
       "  </tbody>\n",
       "</table>\n",
       "<p>500 rows × 3 columns</p>\n",
       "</div>"
      ],
      "text/plain": [
       "version       gate_30   gate_40      diff\n",
       "retention_7  0.191098  0.184418  3.622701\n",
       "retention_7  0.191202  0.183293  4.314836\n",
       "retention_7  0.190218  0.182929  3.984835\n",
       "retention_7  0.190091  0.182824  3.974973\n",
       "retention_7  0.189154  0.180471  4.811104\n",
       "...               ...       ...       ...\n",
       "retention_7  0.191131  0.181397  5.366101\n",
       "retention_7  0.188901  0.181936  3.828108\n",
       "retention_7  0.191024  0.180751  5.683537\n",
       "retention_7  0.192830  0.181141  6.453062\n",
       "retention_7  0.188947  0.177835  6.248888\n",
       "\n",
       "[500 rows x 3 columns]"
      ]
     },
     "execution_count": 60,
     "metadata": {},
     "output_type": "execute_result"
    }
   ],
   "source": [
    "boot_7d[\"diff\"] = (boot_7d.gate_30 - boot_7d.gate_40)/ boot_7d.gate_40  * 100\n",
    "boot_7d"
   ]
  },
  {
   "cell_type": "code",
   "execution_count": 61,
   "id": "3ca1576f-6940-41ef-8745-55e2ab0ae83d",
   "metadata": {},
   "outputs": [
    {
     "name": "stdout",
     "output_type": "stream",
     "text": [
      "Вероятность, что 7-day retention больше у gate-30:  0.998\n"
     ]
    },
    {
     "data": {
      "image/png": "[encoded data removed]",
      "text/plain": [
       "<Figure size 640x480 with 1 Axes>"
      ]
     },
     "metadata": {},
     "output_type": "display_data"
    }
   ],
   "source": [
    "ax = boot_7d[\"diff\"].plot(kind = 'density')\n",
    "ax.set_title(\"% diff между АБ группами\")\n",
    "print(\"Вероятность, что 7-day retention больше у gate-30: \", (boot_7d['diff'] > 0).mean())"
   ]
  },
  {
   "cell_type": "code",
   "execution_count": 62,
   "id": "38e91c41-32f9-446b-b5a9-2ba2a420c027",
   "metadata": {},
   "outputs": [
    {
     "ename": "SyntaxError",
     "evalue": "invalid syntax (99649870.py, line 1)",
     "output_type": "error",
     "traceback": [
      "\u001b[0;36m  Cell \u001b[0;32mIn[62], line 1\u001b[0;36m\u001b[0m\n\u001b[0;31m    Вывод: gate_30 имеет больший retention rate как по 7 дневным показателям, так и однодневным. Поэтому, имеет выгоду оставить gate_30, отвергнув тем самым изменения 40-го уровня\u001b[0m\n\u001b[0m                   ^\u001b[0m\n\u001b[0;31mSyntaxError\u001b[0m\u001b[0;31m:\u001b[0m invalid syntax\n"
     ]
    }
   ],
   "source": [
    "Вывод: gate_30 имеет больший retention rate как по 7 дневным показателям, так и однодневным. Поэтому, имеет выгоду оставить gate_30, отвергнув тем самым изменения 40-го уровня"
   ]
  },
  {
   "cell_type": "code",
   "execution_count": null,
   "id": "6d7b839c-d798-4b99-b077-fbf52a559543",
   "metadata": {},
   "outputs": [],
   "source": []
  }
 ],
 "metadata": {
  "kernelspec": {
   "display_name": "Python 3 (ipykernel)",
   "language": "python",
   "name": "python3"
  },
  "language_info": {
   "codemirror_mode": {
    "name": "ipython",
    "version": 3
   },
   "file_extension": ".py",
   "mimetype": "text/x-python",
   "name": "python",
   "nbconvert_exporter": "python",
   "pygments_lexer": "ipython3",
   "version": "3.10.12"
  }
 },
 "nbformat": 4,
 "nbformat_minor": 5
}
